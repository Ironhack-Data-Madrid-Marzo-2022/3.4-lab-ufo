{
 "cells": [
  {
   "cell_type": "markdown",
   "metadata": {},
   "source": [
    "# UFO Question \n",
    "\n",
    "Our data science team has predicted that the Earth is going to be invaded by an alien force in the\n",
    "next years. Our only hope is to replicate a device that can block all alien technology in a radius of\n",
    "~300km. Sadly, the device was sold in 2004 to an anonymous buyer to protect her hometown and\n",
    "we don't know how contact her again. We know that the device has been active since 2004 in one\n",
    "city in the USA, and we want to know where to start our search.\n",
    "We've included a dataset called ​ufo.csv​. This dataset contains over 80,000 reports of UFO sightings\n",
    "over the last century (all of them verified by the ESA). Using this dataset, try to guess the city in\n",
    "which the device has been hidden.\n"
   ]
  },
  {
   "cell_type": "code",
   "execution_count": 21,
   "metadata": {},
   "outputs": [],
   "source": [
    "# Import libraries\n",
    "import pandas as pd\n",
    "\n",
    "from pymongo import MongoClient"
   ]
  },
  {
   "cell_type": "code",
   "execution_count": 23,
   "metadata": {},
   "outputs": [
    {
     "data": {
      "text/plain": [
       "Database(MongoClient(host=['localhost:27017'], document_class=dict, tz_aware=False, connect=True), 'ufo')"
      ]
     },
     "execution_count": 23,
     "metadata": {},
     "output_type": "execute_result"
    }
   ],
   "source": [
    "# Import data\n",
    "df = pd.read_csv(f'ufo.csv')\n",
    "\n",
    "ufo = MongoClient()\n",
    "\n",
    "db = ufo.ufo"
   ]
  },
  {
   "cell_type": "code",
   "execution_count": 17,
   "metadata": {},
   "outputs": [
    {
     "name": "stdout",
     "output_type": "stream",
     "text": [
      "<class 'pandas.core.frame.DataFrame'>\n",
      "Int64Index: 47126 entries, 0 to 78508\n",
      "Data columns (total 14 columns):\n",
      " #   Column       Non-Null Count  Dtype  \n",
      "---  ------       --------------  -----  \n",
      " 0   Unnamed: 0   47126 non-null  int64  \n",
      " 1   datetime     47126 non-null  object \n",
      " 2   city         47126 non-null  object \n",
      " 3   state        47126 non-null  object \n",
      " 4   country      47126 non-null  object \n",
      " 5   shape        46560 non-null  object \n",
      " 6   duration     47126 non-null  float64\n",
      " 7   total_time   47126 non-null  object \n",
      " 8   comments     47115 non-null  object \n",
      " 9   date_posted  47126 non-null  object \n",
      " 10  latitude     47126 non-null  float64\n",
      " 11  longitude    47126 non-null  float64\n",
      " 12  year         47126 non-null  int64  \n",
      " 13  distance     47126 non-null  float64\n",
      "dtypes: float64(4), int64(2), object(8)\n",
      "memory usage: 5.4+ MB\n"
     ]
    }
   ],
   "source": [
    "# Select data\n",
    "df1 = df[(df.year>=2004) & (df['country']=='us')]\n",
    "\n",
    "df1.info()"
   ]
  },
  {
   "cell_type": "code",
   "execution_count": 18,
   "metadata": {},
   "outputs": [],
   "source": [
    "def data():    # funcion para realizar query a mongoDB\n",
    "    query=db.companies.find({'$and':[{'$or': [{'category_code':'games_video'},\n",
    "                                               {'category_code':'software'},\n",
    "                                               {'category_code':'web'},\n",
    "                                               {'category_code':'mobile'},\n",
    "                                               {'category_code':'photo_video'},\n",
    "                                               {'category_code':'ecommerce'},\n",
    "                                               {'category_code':'search'},\n",
    "                                               {'category_code':'network_hosting'}]},\n",
    "                             {'founded_year': {'$gte':1999}},\n",
    "                             {'offices': {'$ne':[]}}, \n",
    "                             {'offices.latitude': {'$ne':[]}},\n",
    "                             {'offices.longitude': {'$ne':[]}},\n",
    "                             {'offices.latitude': {'$ne':None}},\n",
    "                             {'offices.longitude': {'$ne':None}},         \n",
    "                             {'deadpooled_year':None},\n",
    "                             {'number_of_employees': {'$ne':None}},\n",
    "                             {'total_money_raised': {'$ne':None}}]},\n",
    "\n",
    "                             {'name':1, '_id':0, 'offices.latitude':1, 'offices.longitude':1, \n",
    "                              'founded_year':1, 'category_code':1, 'number_of_employees':1,\n",
    "                              'total_money_raised':1})\n",
    "\n",
    "\n",
    "    df=pd.json_normalize(data=query, record_path='offices',\n",
    "                      meta=['category_code', 'name', 'number_of_employees',\n",
    "                            'founded_year', 'total_money_raised'])\n",
    "    \n",
    "    df.insert(2, 'geo_loc', pd.Series(list(range(len(df)))))\n",
    "    df['geo_loc']=df.apply(lambda x: [x['longitude'], x['latitude']], axis=1)\n",
    "    \n",
    "    return df"
   ]
  },
  {
   "cell_type": "code",
   "execution_count": null,
   "metadata": {},
   "outputs": [],
   "source": [
    "# Find the city"
   ]
  }
 ],
 "metadata": {
  "kernelspec": {
   "display_name": "Python 3",
   "language": "python",
   "name": "python3"
  },
  "language_info": {
   "codemirror_mode": {
    "name": "ipython",
    "version": 3
   },
   "file_extension": ".py",
   "mimetype": "text/x-python",
   "name": "python",
   "nbconvert_exporter": "python",
   "pygments_lexer": "ipython3",
   "version": "3.8.0"
  }
 },
 "nbformat": 4,
 "nbformat_minor": 2
}
